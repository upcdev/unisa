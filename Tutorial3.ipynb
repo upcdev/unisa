{
 "cells": [
  {
   "cell_type": "markdown",
   "id": "79e2b1a4",
   "metadata": {},
   "source": [
    "# DSC4828 Tutorial 3\n",
    "\n",
    "## Python concepts covered in this tutorial:\n",
    "* Tuples in Python\n",
    "* Dictionaries in Python\n",
    "* Numpy"
   ]
  },
  {
   "cell_type": "markdown",
   "id": "290d2e4c",
   "metadata": {},
   "source": [
    "## Tuples in Python\n",
    "A tuple is used for storing multiple items in a single variable. Tuples are denoted in Python using round brackets. The code below will illustrate."
   ]
  },
  {
   "cell_type": "code",
   "execution_count": 1,
   "id": "057b0f01",
   "metadata": {},
   "outputs": [
    {
     "name": "stdout",
     "output_type": "stream",
     "text": [
      "<class 'tuple'>\n",
      "4\n",
      "Volkswagen\n",
      "Ford\n",
      "Fiesta\n",
      "FX145RC GP\n",
      "2016\n"
     ]
    }
   ],
   "source": [
    "car1 = ('Ford', 'Fiesta', 'FX145RC GP', 2016)\n",
    "print(type(car1))\n",
    "print(len(car1))\n",
    "car2 = ('Volkswagen', 'Tiguan', 'NDT39HY GP', 2018)\n",
    "print(car2[0])\n",
    "\n",
    "for i in car1:\n",
    "    print(i)"
   ]
  },
  {
   "cell_type": "markdown",
   "id": "ce7d2ada",
   "metadata": {},
   "source": [
    "Tuples in Python are **immutable**. This means that once they are created, the values cannot change. Run the code below to see what happens."
   ]
  },
  {
   "cell_type": "code",
   "execution_count": 2,
   "id": "f7fb6a94",
   "metadata": {},
   "outputs": [
    {
     "ename": "TypeError",
     "evalue": "'tuple' object does not support item assignment",
     "output_type": "error",
     "traceback": [
      "\u001b[1;31m---------------------------------------------------------------------------\u001b[0m",
      "\u001b[1;31mTypeError\u001b[0m                                 Traceback (most recent call last)",
      "\u001b[1;32m<ipython-input-2-60d0f74f890d>\u001b[0m in \u001b[0;36m<module>\u001b[1;34m\u001b[0m\n\u001b[1;32m----> 1\u001b[1;33m \u001b[0mcar2\u001b[0m\u001b[1;33m[\u001b[0m\u001b[1;36m3\u001b[0m\u001b[1;33m]\u001b[0m \u001b[1;33m=\u001b[0m \u001b[1;36m2020\u001b[0m\u001b[1;33m\u001b[0m\u001b[1;33m\u001b[0m\u001b[0m\n\u001b[0m",
      "\u001b[1;31mTypeError\u001b[0m: 'tuple' object does not support item assignment"
     ]
    }
   ],
   "source": [
    "car2[3] = 2020"
   ]
  },
  {
   "cell_type": "markdown",
   "id": "65a64161",
   "metadata": {},
   "source": [
    "## Dictionaries in Python\n",
    "In Python, a **dictionary** is a collection that can be used for storing **key-value pairs**. You can think of a dictionary as an **unordered** collection of elements where the elements are accessed using a key. The key is used just like the index (position) is used to access an element in a list. Every element of a dictionary has a key (used for indexing) and a value (the actual data stored in the dictionary). \n",
    "One of the advantages of using dictionaries is that they are very fast at doing lookups.\n",
    "Dictionaries are denoted using curly braces with colons between the key and value pairs. The following code will illustrate:"
   ]
  },
  {
   "cell_type": "code",
   "execution_count": null,
   "id": "0a497563",
   "metadata": {},
   "outputs": [],
   "source": [
    "# In the example below, a dictionary is created for storing names using a cell phone number as the key\n",
    "names = {'0836784331': 'Gert Mkhize', '0845671238': 'Ayanda Botha', '0836164269': 'Anna Marota', '0612356649': 'Pete Mills'}\n",
    "print(type(names))\n",
    "print(len(names))\n",
    "print(names['0836164269'])\n",
    "cell = '0612356649'\n",
    "if cell in names:\n",
    "    print(cell, \"is in the dictionary and has the name\", names[cell])\n",
    "else:\n",
    "    print(cell, \"is not in the dictionary\")"
   ]
  },
  {
   "cell_type": "markdown",
   "id": "214d3319",
   "metadata": {},
   "source": [
    "Adding a new element to a dictionary is simple:"
   ]
  },
  {
   "cell_type": "code",
   "execution_count": null,
   "id": "911e3e09",
   "metadata": {},
   "outputs": [],
   "source": [
    "names['0734562741'] = 'Wonder Bingwa'\n",
    "print(len(names))"
   ]
  },
  {
   "cell_type": "markdown",
   "id": "8a32f414",
   "metadata": {},
   "source": [
    "Dictionaries are unordered - elements are accessed using the key value and not the position. The following code illustrates this:"
   ]
  },
  {
   "cell_type": "code",
   "execution_count": 3,
   "id": "ea0ae48a",
   "metadata": {},
   "outputs": [
    {
     "name": "stdout",
     "output_type": "stream",
     "text": [
      "zero\n"
     ]
    }
   ],
   "source": [
    "digits = {9: 'nine', 8:'eight', 1: 'one', 2: 'two', 3:'three', 5:'five', 6:'six', 7:'seven', 4:'four',0:'zero'}\n",
    "print(digits[0])"
   ]
  },
  {
   "cell_type": "markdown",
   "id": "8e8a2393",
   "metadata": {},
   "source": [
    "The values stored in a dictionary can be of any type, such as a list of values or a tuple of data as seen below:"
   ]
  },
  {
   "cell_type": "code",
   "execution_count": null,
   "id": "ae00a840",
   "metadata": {},
   "outputs": [],
   "source": [
    "names_cars = {'0836784331': ('Gert Mkhize', car1), '0845671238': ('Ayanda Botha', None), \n",
    "              '0836164269': ('Anna Marota', car2), '0612356649': ('Pete Mills', None)}\n",
    "for cell, person in names_cars.items():  # cell refers to the key and person to the value\n",
    "    if person[1] == None:\n",
    "        print(person[0], 'does not have a car')\n",
    "    else:\n",
    "        print(person[0], 'owns car:', person[1])"
   ]
  },
  {
   "cell_type": "markdown",
   "id": "ac9ebf5e",
   "metadata": {},
   "source": [
    "**Exercise**: Find two ways to delete an element from a dictionary. Add code below that illustrates how they are used. "
   ]
  },
  {
   "cell_type": "code",
   "execution_count": null,
   "id": "1f492e5a",
   "metadata": {},
   "outputs": [],
   "source": []
  },
  {
   "cell_type": "markdown",
   "id": "8cf92ea9",
   "metadata": {},
   "source": [
    "## Numpy\n",
    "Numpy is the primary package for scientific computing in Python. There are three main reasons why numpy is important for data science:\n",
    "* speed\n",
    "* functionality\n",
    "* many data science packages are built ontop of numpy.\n",
    "\n",
    "The main class in numpy is called an **ndarray** (N-dimensional array). An ndarray is a container with elements of the same type and includes methods that can be executed on whole ndarrays without using loops.\n",
    "\n",
    "An array is like a list, except that all the elements are of the same type. The dimension of an array is called the **rank**, so a vector is a rank 1 array, while a matrix is a rank 2 array. The **shape** of an ndarray is a tuple of integers indicating the size of the array in each dimension."
   ]
  },
  {
   "cell_type": "code",
   "execution_count": 2,
   "id": "2f6773aa",
   "metadata": {},
   "outputs": [
    {
     "name": "stdout",
     "output_type": "stream",
     "text": [
      "Defaulting to user installation because normal site-packages is not writeableNote: you may need to restart the kernel to use updated packages.\n",
      "\n",
      "Collecting numpy\n",
      "  Downloading numpy-1.21.6-cp37-cp37m-win_amd64.whl (14.0 MB)\n",
      "Installing collected packages: numpy\n",
      "Successfully installed numpy-1.21.6\n"
     ]
    },
    {
     "name": "stderr",
     "output_type": "stream",
     "text": [
      "  WARNING: The script f2py.exe is installed in 'C:\\Users\\user\\AppData\\Roaming\\Python\\Python37\\Scripts' which is not on PATH.\n",
      "  Consider adding this directory to PATH or, if you prefer to suppress this warning, use --no-warn-script-location.\n",
      "WARNING: You are using pip version 20.1.1; however, version 22.0.4 is available.\n",
      "You should consider upgrading via the 'c:\\Program Files (x86)\\Microsoft Visual Studio\\Shared\\Python37_64\\python.exe -m pip install --upgrade pip' command.\n"
     ]
    }
   ],
   "source": [
    "pip install numpy"
   ]
  },
  {
   "cell_type": "code",
   "execution_count": 1,
   "id": "54614dcf",
   "metadata": {},
   "outputs": [
    {
     "name": "stdout",
     "output_type": "stream",
     "text": [
      "<class 'list'> does not have a shape\n",
      "<class 'numpy.ndarray'> with shape = (5,) ; dimension = 1 ; size = 5\n",
      "<class 'numpy.ndarray'> with shape: (3, 4) ; dimension = 2 ; size = 12\n",
      "Here is the whole vector: [10 20 30 40 50]\n",
      "Here is the whole matrix:\n",
      " [[10 11 12 13]\n",
      " [20 21 22 23]\n",
      " [30 31 32 33]]\n",
      "First element of vector: 10\n",
      "First element of matrix is a vector: [10 11 12 13]\n",
      "First element of matrix is accessed using two indices: 10\n",
      "Here is the first column of the matrix: [10 20 30]\n"
     ]
    }
   ],
   "source": [
    "import numpy as np    # before using numpy, you must import the package\n",
    "numsList = [10, 20, 30, 40, 50]    # a list of 5 numbers\n",
    "vector = np.array(numsList)  # a numpy array of 5 numbers\n",
    "matrix = np.array([[10, 11, 12, 13], [20, 21, 22, 23], [30, 31, 32, 33]])\n",
    "\n",
    "print(type(numsList), \"does not have a shape\")\n",
    "print(type(vector), \"with shape =\", vector.shape, \"; dimension =\", vector.ndim, \"; size =\", vector.size)\n",
    "print(type(matrix), \"with shape:\", matrix.shape, \"; dimension =\", matrix.ndim, \"; size =\", matrix.size)\n",
    "\n",
    "print(\"Here is the whole vector:\", vector)\n",
    "print(\"Here is the whole matrix:\\n\", matrix)\n",
    "\n",
    "print(\"First element of vector:\", vector[0])\n",
    "print(\"First element of matrix is a vector:\", matrix[0])\n",
    "print(\"First element of matrix is accessed using two indices:\", matrix[0,0])\n",
    "print(\"Here is the first column of the matrix:\", matrix[:,0])\n"
   ]
  },
  {
   "cell_type": "markdown",
   "id": "66af4770",
   "metadata": {},
   "source": [
    "There are many useful functions for initialising ndarrays:"
   ]
  },
  {
   "cell_type": "code",
   "execution_count": null,
   "id": "f609dbf2",
   "metadata": {},
   "outputs": [],
   "source": [
    "example1 = np.zeros((5,10))\n",
    "print(example1)\n",
    "example2 = np.ones((2,3,4))\n",
    "print(example2)\n",
    "example3 = np.random.random((3,5))\n",
    "print(example3)"
   ]
  },
  {
   "cell_type": "markdown",
   "id": "7765c7d9",
   "metadata": {},
   "source": [
    "Arithmetic operators can be used on ndarrays:"
   ]
  },
  {
   "cell_type": "code",
   "execution_count": null,
   "id": "73f887a2",
   "metadata": {},
   "outputs": [],
   "source": [
    "percentages = example3 * 100\n",
    "print(percentages)"
   ]
  },
  {
   "cell_type": "markdown",
   "id": "ed465ef8",
   "metadata": {},
   "source": [
    "There are also many useful methods defined for ndarrays:"
   ]
  },
  {
   "cell_type": "code",
   "execution_count": null,
   "id": "bff6f5e9",
   "metadata": {},
   "outputs": [],
   "source": [
    "example3.sort()\n",
    "print(example3)\n",
    "\n",
    "colAvg = example3.mean(axis=0)\n",
    "print(\"Column averages:\", colAvg)\n",
    "rowAvg = example3.mean(axis=1)\n",
    "print(\"Row averages:\", rowAvg)"
   ]
  },
  {
   "cell_type": "markdown",
   "id": "0b2a7dce",
   "metadata": {},
   "source": [
    "Numpy includes a function **info()** that can be used to quickly see the documentation on a function, class or module. Run the following code to see how this works:"
   ]
  },
  {
   "cell_type": "code",
   "execution_count": null,
   "id": "9264d856",
   "metadata": {},
   "outputs": [],
   "source": [
    "print(np.info(np.mean))"
   ]
  },
  {
   "cell_type": "markdown",
   "id": "0eba41e4",
   "metadata": {},
   "source": [
    "**Slicing** is a useful way of extracting data from a numpy array. Work through the following online guide to see how this is done: https://www.pythoninformer.com/python-libraries/numpy/index-and-slice/\n",
    "Add code cells here to illustrate what you have learnt."
   ]
  },
  {
   "cell_type": "markdown",
   "id": "97bb1ed0",
   "metadata": {},
   "source": [
    "## Exercises\n",
    "1. Write a function called first_duplicate that takes a list as an argument and returns the first element that is duplicated in the list. If no duplicates are found, the function should return None. **Hint:** One way of doing this is to use the count method to see how many instances of each element there are. If there is more than 1, it means that that element is duplicated.\n",
    "2. Write code to test the function first_duplicate with a list of numbers and a list of tuples. If your function does not work with both types, then change it until it does work with these two types.\n",
    "3. Write code to do the following: \n",
    "    3.1 Declare a dictionary that includes entries with duplicated keys but with different values. \n",
    "    3.2 Print out the length of the dictionary and the dictionary itself. What do you notice?\n",
    "4. Python has a built-in function called **sorted()** that takes a collection object (such as a list) as an argument and returns a list of the objects in sorted order. Write code to test the sorted() function on a list of numbers, a list of tuples and a single dictionary object. Write down any observations that you make on how the function works with these types.\n",
    "5. Write a program that asks the user to enter numbers until they enter the character 's' to stop. Store the numbers in a numpy array. Print out the mean and standard deviation of the values entered. **Hints:** (1) Use a while loop to input values until the letter s is entered. (2) Append the values to a list in the while loop and create a numpy array from the list after all the values have been entered. (3) The method **std()** returns the standard deviation of a numpy array.\n",
    "6. Write code to create a 5 x 6 matrix of random values between 0 and 1, rounded off to one decimal place. Print out the matrix. Use slicing to extract the matrix consisting of the values not on the outside of the matrix (i.e. the 3 x 4 matrix in the centre). Print out the inner matrix."
   ]
  },
  {
   "cell_type": "code",
   "execution_count": null,
   "id": "cdc3a441",
   "metadata": {},
   "outputs": [],
   "source": []
  }
 ],
 "metadata": {
  "interpreter": {
   "hash": "0a54084e6b208ee8d1ce3989ffc20924477a5f55f5a43e22e699a6741623861e"
  },
  "kernelspec": {
   "display_name": "Python 3.7.8 64-bit",
   "language": "python",
   "name": "python3"
  },
  "language_info": {
   "codemirror_mode": {
    "name": "ipython",
    "version": 3
   },
   "file_extension": ".py",
   "mimetype": "text/x-python",
   "name": "python",
   "nbconvert_exporter": "python",
   "pygments_lexer": "ipython3",
   "version": "3.7.8"
  }
 },
 "nbformat": 4,
 "nbformat_minor": 5
}
