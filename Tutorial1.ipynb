{
 "cells": [
  {
   "cell_type": "markdown",
   "id": "864c9aca",
   "metadata": {},
   "source": [
    "# DSC4828 Tutorial 1\n",
    "\n",
    "## Python concepts covered in this tutorial:\n",
    "* Comments and indentation\n",
    "* Variables and types\n",
    "* Conversions between types\n",
    "* Numeric operators and functions\n",
    "* Strings\n",
    "* User input\n"
   ]
  },
  {
   "cell_type": "markdown",
   "id": "95e2950d",
   "metadata": {},
   "source": [
    "## 1. Comments and indentation\n",
    "Comments in programs are words for human readers. In Python, comments are indicated using the hash symbol (#). Everything that appears after the # in a line is ignored by Python.\n",
    "\n",
    "Indentation is significant in Python. All statements should be at the start of the line, unless they are part of a block of code that is indented. We will come back to indentation when we cover if statements, looping and functions later."
   ]
  },
  {
   "cell_type": "code",
   "execution_count": 3,
   "id": "1761ccfc",
   "metadata": {},
   "outputs": [
    {
     "name": "stdout",
     "output_type": "stream",
     "text": [
      "Hello!\n",
      "Next line\n"
     ]
    }
   ],
   "source": [
    "# Run this cell and correct the code so that it runs correctly.\n",
    "# This is a comment and is ignored by Python\n",
    "print(\"Hello!\")   # The beginning of this line is a Python print statement\n",
    "print(\"Next line\")   # This statement will generate an error because it is not at the start of the line"
   ]
  },
  {
   "cell_type": "markdown",
   "id": "706dd409",
   "metadata": {},
   "source": [
    "## 2. Variables and types in Python\n",
    "\n",
    "To start with, we will cover the following built-in types in Python:\n",
    "* numeric: int, float\n",
    "* string: str\n",
    "* Boolean: bool\n",
    "\n",
    "Python is a **dynamically typed** language (as opposed to **statically typed** such as Java). What does this mean?\n",
    "\n",
    "In Python, variables can be used without declaring their type (e.g. integer, real number, string). In Java, before a variable is used, the type of the variable must be declared upfront and when it is used, the checking of whether the use of the variable is valid/invalid is done at compile-time. For example, it is valid to multiply two numbers together, but invalid to multiply two strings together. In statically typed languages, this kind of checking happens when the syntax of the program is checked by the compiler. In Python, the type of the variable is determined when the program runs depending on how it has been used up to that point. The validity of the use of the variable is checked only when the program runs, hence Python does dynamic type checking. \n",
    "\n",
    "We will illustrate the concept of dynamic type checking through the code below. \n",
    "\n",
    "Run each of the cells below and take note of the output."
   ]
  },
  {
   "cell_type": "code",
   "execution_count": 4,
   "id": "b2b761f4",
   "metadata": {},
   "outputs": [
    {
     "data": {
      "text/plain": [
       "int"
      ]
     },
     "execution_count": 4,
     "metadata": {},
     "output_type": "execute_result"
    }
   ],
   "source": [
    "i1 = 5      # i1 is an int\n",
    "type(i1)    # The function type() returns the type of the argument sent to it"
   ]
  },
  {
   "cell_type": "markdown",
   "id": "d198b6b7",
   "metadata": {},
   "source": [
    "Note that the = sign in Python is an **assignment** operator. This means that the variable on the left is updated to take on the value on the right of the assignment operator. The = sign in Python has a very different meaning from the equals sign in mathematics. "
   ]
  },
  {
   "cell_type": "code",
   "execution_count": 2,
   "id": "94cbc9bd",
   "metadata": {},
   "outputs": [
    {
     "data": {
      "text/plain": [
       "float"
      ]
     },
     "execution_count": 2,
     "metadata": {},
     "output_type": "execute_result"
    }
   ],
   "source": [
    "f1 = 12.3   # f1 is a float\n",
    "type(f1)"
   ]
  },
  {
   "cell_type": "code",
   "execution_count": 3,
   "id": "3449e2c3",
   "metadata": {},
   "outputs": [
    {
     "name": "stdout",
     "output_type": "stream",
     "text": [
      "14300.0\n"
     ]
    }
   ],
   "source": [
    "f2 = 1.43e4  # scientific notation for floats\n",
    "print(f2)"
   ]
  },
  {
   "cell_type": "code",
   "execution_count": 4,
   "id": "bbcc3c1f",
   "metadata": {},
   "outputs": [
    {
     "data": {
      "text/plain": [
       "str"
      ]
     },
     "execution_count": 4,
     "metadata": {},
     "output_type": "execute_result"
    }
   ],
   "source": [
    "s1 = 'pumpkin' #s1 is a string\n",
    "type(s1)"
   ]
  },
  {
   "cell_type": "code",
   "execution_count": 5,
   "id": "cc6dcf85",
   "metadata": {},
   "outputs": [
    {
     "data": {
      "text/plain": [
       "bool"
      ]
     },
     "execution_count": 5,
     "metadata": {},
     "output_type": "execute_result"
    }
   ],
   "source": [
    "b1 = True     # b1 is a bool\n",
    "type(b1)"
   ]
  },
  {
   "cell_type": "code",
   "execution_count": 6,
   "id": "45ce82fd",
   "metadata": {},
   "outputs": [
    {
     "name": "stdout",
     "output_type": "stream",
     "text": [
      "10\n",
      "24.6\n",
      "pumpkin pie\n",
      "False\n"
     ]
    }
   ],
   "source": [
    "# Valid uses of the variables above:\n",
    "# Before running this cell, can you predict the output?\n",
    "print (i1 * 2)\n",
    "print (f1 * 2)\n",
    "print (s1 + ' pie')\n",
    "print (b1 and False)"
   ]
  },
  {
   "cell_type": "code",
   "execution_count": null,
   "id": "a46b8f8b",
   "metadata": {},
   "outputs": [],
   "source": [
    "# Invalid uses of the variables above:\n",
    "# Uncomment each print statement in turn below to observe the error that is generated when you run the cell\n",
    "print (i1 + ' pie')\n",
    "#print (f1 + ' pie')\n",
    "#print (s1 + i1)\n",
    "#print (b1 + 'pie')"
   ]
  },
  {
   "cell_type": "code",
   "execution_count": null,
   "id": "419db5c9",
   "metadata": {},
   "outputs": [],
   "source": [
    "# If a previously used variable is assigned to a new value, the type can change:\n",
    "f1 = -2\n",
    "type(f1)"
   ]
  },
  {
   "cell_type": "markdown",
   "id": "ab2fa683",
   "metadata": {},
   "source": [
    "## 3. Conversion between types\n",
    "Python has built-in functions for converting between types. The following cells illustrate these functions."
   ]
  },
  {
   "cell_type": "code",
   "execution_count": null,
   "id": "e98db14e",
   "metadata": {},
   "outputs": [],
   "source": [
    "s = \"123\"\n",
    "x = int(s)\n",
    "f = float(s)\n",
    "b = bool(s)\n",
    "print(x + 100)\n",
    "print(f + 100)\n",
    "print(b)"
   ]
  },
  {
   "cell_type": "code",
   "execution_count": null,
   "id": "493ed06b",
   "metadata": {},
   "outputs": [],
   "source": [
    "x = int(234.56)\n",
    "print(x)"
   ]
  },
  {
   "cell_type": "code",
   "execution_count": null,
   "id": "6ae43500",
   "metadata": {},
   "outputs": [],
   "source": [
    "# The following code will generate an error. Run it to see, then fix the error.\n",
    "s = \"123,45\"   # an invalid number\n",
    "f = float(s)\n",
    "print(f)"
   ]
  },
  {
   "cell_type": "code",
   "execution_count": null,
   "id": "3c30cae6",
   "metadata": {},
   "outputs": [],
   "source": [
    "f = 1.2345678e5\n",
    "print(f)\n",
    "s = str(f)     # convert the float into a string\n",
    "print(\"The number is: \" + s)"
   ]
  },
  {
   "cell_type": "markdown",
   "id": "8b941886",
   "metadata": {},
   "source": [
    "## 4. Numeric operators and functions\n",
    "Python supports the following numeric operators:\n",
    "\n",
    "|Operator | Description|      \n",
    "|:---|:---|      \n",
    "|+ |Addition|\n",
    "| - | Subtraction |\n",
    "|* |Multiplication|\n",
    "| / | Division|\n",
    "| % | Modulus |\n",
    "| ** | Exponent |\n",
    "| // | Floor division |\n",
    "\n",
    "Python also provides a number of mathematical functions, including the following. Note that some of these functions are defined in the **math** library, so to use them we have to import the library first.\n",
    "\n",
    "|Function | Returns| Defined in math library |\n",
    "|:---|:---|:-:\n",
    "|abs(x) |The absolute value of x| No\n",
    "|ceil(x) | The smallest integer not greater than x | Yes\n",
    "|exp(x) | The exponential of x: $e^x$| Yes\n",
    "| floor(x) | The largest integer not greater than x| Yes\n",
    "| log(x) | The natural logarithm of x | Yes\n",
    "| log10(x) | The base-10 logarithm of x | Yes\n",
    "| max(x1, x2, x3, ...) | The maximum of the given arguments | No\n",
    "| min(x1, x2, x3, ...) | The minimum of the given arguments | No\n",
    "| round(x,[,n]) | x rounded off to n digits (zero if n is not specified) | No\n",
    "| sqrt(x) | The square root of x | Yes\n",
    " \n"
   ]
  },
  {
   "cell_type": "code",
   "execution_count": null,
   "id": "fc40119d",
   "metadata": {},
   "outputs": [],
   "source": [
    "# There is no limit to the size of integers in Python:\n",
    "x = 5**200\n",
    "print(x)"
   ]
  },
  {
   "cell_type": "code",
   "execution_count": 7,
   "id": "39a923bc",
   "metadata": {},
   "outputs": [
    {
     "name": "stdout",
     "output_type": "stream",
     "text": [
      "2.5\n",
      "2\n",
      "5\n"
     ]
    }
   ],
   "source": [
    "# Before running this cell, what do you expect will be the output?\n",
    "x = 25\n",
    "y = 10\n",
    "print (x/y)\n",
    "print (x//y)\n",
    "print (x%y)"
   ]
  },
  {
   "cell_type": "code",
   "execution_count": null,
   "id": "fc46b104",
   "metadata": {},
   "outputs": [],
   "source": [
    "import math\n",
    "# Before running this cell, what do you expect will be the output?\n",
    "x = -76.54321\n",
    "print(abs(x))\n",
    "print(math.ceil(x))\n",
    "print(math.floor(x))\n",
    "print(round(x,2))\n",
    "print(math.exp(1)) # the function exp() is defined in the math library\n",
    "print(math.e)      # the constant e is defined in the math library\n",
    "print(math.log10(1e5))\n",
    "print(math.log(math.e))\n",
    "print(max(1,2,3,4,5,6,7,8,50,-50))\n",
    "print(min(1,2,3,4,5,6,7,8,50,-50))\n",
    "print(math.sqrt(81))\n",
    "print(math.pi)     # the constant pi is defined in the math library"
   ]
  },
  {
   "cell_type": "markdown",
   "id": "7c99b6e0",
   "metadata": {},
   "source": [
    "## 5. Strings in Python\n",
    "\n",
    "Strings in Python are either written in double quotation marks or single quotation marks. The individual characters of a string are numbered from 0 and you can access them by specifying the index in square brackets. \n",
    "Concatenation of strings can be performed using the + operator.\n",
    "There are many useful string functions. Some of them will be illustrated in the cells below."
   ]
  },
  {
   "cell_type": "code",
   "execution_count": null,
   "id": "5b9ad445",
   "metadata": {},
   "outputs": [],
   "source": [
    "# Before running the cell, what do you expect will be the output?\n",
    "s = \"pumpkin\"\n",
    "print(len(s))    # The len function returns the length of a string\n",
    "print(s[0])\n",
    "print(s[1])\n",
    "print(s[6])\n",
    "print(s[7])"
   ]
  },
  {
   "cell_type": "code",
   "execution_count": null,
   "id": "93f37cae",
   "metadata": {},
   "outputs": [],
   "source": [
    "s = \"A FULL Sentence with A mixture of CAPITAL letters and lowercase LeTtErS\"\n",
    "print(s.upper())           # returns the string converted into uppercase\n",
    "print(s)                   # notice that s has not changed\n",
    "s = s.lower()              # update s to s converted into lowercase\n",
    "print(s)                   # string s has changed\n",
    "print(s.count(\"letters\"))  # counts how many occurrences of \"letters\" are in s\n",
    "print(s.count(\"a\"))\n",
    "print(s.find(\"u\"))         # finds the first occurrence of \"u\" in s and returns the index\n",
    "print(s.find(\"z\"))"
   ]
  },
  {
   "cell_type": "code",
   "execution_count": null,
   "id": "1cfc69c0",
   "metadata": {},
   "outputs": [],
   "source": [
    "s = \"one, two, three, four, five, six\"\n",
    "print(s.replace(\",\", \":\"))   # replace all occurrences of a given string with another string\n",
    "print(s)                     # notice the string has not changed"
   ]
  },
  {
   "cell_type": "code",
   "execution_count": null,
   "id": "80454e92",
   "metadata": {},
   "outputs": [],
   "source": [
    "s = \"    name@gmail.com    \"\n",
    "print(\"The original string:\", s, \" length:\", len(s))\n",
    "s = s.strip()       # strips off any white space at the start and end of the string\n",
    "print(\"The stripped string:\", s, \" length:\", len(s))"
   ]
  },
  {
   "cell_type": "markdown",
   "id": "17bc6e57",
   "metadata": {},
   "source": [
    "For more help on string functions, see https://docs.python.org/3/library/string.html\n"
   ]
  },
  {
   "cell_type": "markdown",
   "id": "a2226a87",
   "metadata": {},
   "source": [
    "## 6. User Input\n",
    "Python has a built-in function called **input** that can be used to read in input from the user. When input is executed, it displays an input box into which the user can type something. Whatever the user types in is returned from the function as a string, so it needs to be converted to be used as a number if applicable."
   ]
  },
  {
   "cell_type": "code",
   "execution_count": null,
   "id": "f38b7ffe",
   "metadata": {},
   "outputs": [],
   "source": [
    "n = input(\"Enter a number: \")\n",
    "print(n, type(n))   \n",
    "# Convert the string into an integer so that it can be manipulated as a number:\n",
    "n = int(n)\n",
    "print(n, type(n))"
   ]
  },
  {
   "cell_type": "markdown",
   "id": "84a9edb9",
   "metadata": {},
   "source": [
    "## Exercises\n",
    "\n",
    "Write code to do the following:\n",
    "1. Input a sentence from the user and output the number of characters in the sentence as well as the estimated number of words in the sentence (excluding leading or trailing spaces). **Hint**: You can estimate the number of words by counting the number of spaces in the sentence. \n",
    "\n",
    "2. Input two numbers from the user (x1 and x2) and then print out the result of the following fuction (known as Ackley's function). You can test your code using the following test cases: f(0,0) $\\approx$ 0, and f(31.5, 31.5) $\\approx$ 22.314. **Hint**: In Python, trigonometric functions (such as cos and sin) are defined in the math package. \n",
    "\n",
    "   $f(x_1,x_2) =   -20\\,\\textrm{exp}\\big(-0.2\\sqrt{0.5(x_1^2 + x_2^2)}\\big)-\\textrm{exp}(0.5(\\cos2\\pi x_1 + \\cos2\\pi x_2)) + 20 + \\textrm{exp}(1)$\n",
    "   \n",
    " \n",
    "\n"
   ]
  }
 ],
 "metadata": {
  "interpreter": {
   "hash": "0a54084e6b208ee8d1ce3989ffc20924477a5f55f5a43e22e699a6741623861e"
  },
  "kernelspec": {
   "display_name": "Python 3.7.8 64-bit",
   "language": "python",
   "name": "python3"
  },
  "language_info": {
   "codemirror_mode": {
    "name": "ipython",
    "version": 3
   },
   "file_extension": ".py",
   "mimetype": "text/x-python",
   "name": "python",
   "nbconvert_exporter": "python",
   "pygments_lexer": "ipython3",
   "version": "3.7.8"
  }
 },
 "nbformat": 4,
 "nbformat_minor": 5
}
