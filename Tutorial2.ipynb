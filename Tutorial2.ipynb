{
 "cells": [
  {
   "cell_type": "markdown",
   "id": "79e2b1a4",
   "metadata": {},
   "source": [
    "# DSC4828 Tutorial 2\n",
    "\n",
    "## Python concepts covered in this tutorial:\n",
    "* Objects\n",
    "* Conditionals (if statement)\n",
    "* Loops (for statement)\n",
    "* Lists\n",
    "* Functions\n",
    "* Variable scope"
   ]
  },
  {
   "cell_type": "markdown",
   "id": "65d240c5",
   "metadata": {},
   "source": [
    "## Objects in Python\n",
    "\n",
    "If you have had experience with programming in other languages, such as Java, you may know that data in a program can be primitive types (such as int) or can be complex types (such as objects). Python works slightly differently.\n",
    "\n",
    "**All variables declared in Python refer to objects in memory.**\n",
    "\n",
    "In the previous tutorial, we said that Python had basic types called int, float, string, etc. To be more precise, Python has **classes** called int, float and string and when we create variables of these types, we are actually creating objects. In object-oriented programming, types are classes and instances of classes are objects. \n",
    "\n",
    "An **object** in programming is a construct that holds data and has a predefined set of actions that can be executed on the object. In object-oriented programming, we call these actions **methods**. You can think of a method as a function that can be called using an object. When we call a method of an object, we use the object name followed by a dot.\n",
    "\n",
    "Python has a mixture of stand-alone functions and methods of classes, so it can sometimes be confusing to know how to use them. The following cell illustrates the difference between a stand-alone function that is passed an object as an argument and an object calling a method."
   ]
  },
  {
   "cell_type": "code",
   "execution_count": 2,
   "id": "3ec790a0",
   "metadata": {},
   "outputs": [
    {
     "name": "stdout",
     "output_type": "stream",
     "text": [
      "<class 'str'>\n",
      "5\n",
      "HELLO\n",
      "<class 'float'>\n",
      "2.3664319132398464\n",
      "False\n",
      "True\n"
     ]
    }
   ],
   "source": [
    "import math\n",
    "\n",
    "s = \"hello\"      # s is an object of type string\n",
    "print(type(s))   # notice that the type is actually the class str\n",
    "\n",
    "print(len(s))    # len is a stand-alone function, so we pass s to the function as an argument\n",
    "print(s.upper()) # in contrast, upper is a method of the string class, so it is called with a string object followed by a dot\n",
    "\n",
    "x = 5.6          # x is an object of type float\n",
    "print(type(x))   # notice that the type is actually the class float\n",
    "type(x)\n",
    "print(math.sqrt(x))  # sqrt is a stand-alone function defined in the math package, so we pass x to the function as an argument\n",
    "print(x.is_integer()) # is_integer() is a method of the float class, so it is called with a float object followed by a dot\n",
    "x = x * 10\n",
    "print(x.is_integer()) # Do you understand from the output how is_integer() works?"
   ]
  },
  {
   "cell_type": "code",
   "execution_count": 3,
   "id": "37438607",
   "metadata": {},
   "outputs": [
    {
     "name": "stdout",
     "output_type": "stream",
     "text": [
      "<class 'float'>\n"
     ]
    }
   ],
   "source": [
    "print(type(x))"
   ]
  },
  {
   "cell_type": "markdown",
   "id": "17325572",
   "metadata": {},
   "source": [
    "## Conditionals\n",
    "\n",
    "In Python the **if statement** is used for specifying statements to be executed under certain conditions. Indentation is used to indicate program blocks (in many other languages, such as Java, curly braces are used).\n",
    "The following code illustrates the basics of conditionals."
   ]
  },
  {
   "cell_type": "code",
   "execution_count": null,
   "id": "c9e0b0c7",
   "metadata": {},
   "outputs": [],
   "source": [
    "# Example 1: Basic if...else statement.\n",
    "n = int(input(\"Enter an integer: \"))  \n",
    "if n%2 == 0:\n",
    "    print (n, \"is an even number\")\n",
    "else:\n",
    "    print (n, \"is an odd number\")"
   ]
  },
  {
   "cell_type": "markdown",
   "id": "fa432f50",
   "metadata": {},
   "source": [
    "Do the following with the code cell above:\n",
    "1. In the line with the if statement, change the == sign to =. Run it to see what happens. Change the operator back to ==.\n",
    "2. In the line with the if statement, remove the colon at the end of the line. Run it to see what happens. Re-insert the colon.\n",
    "3. In the first line with a print statement, remove the indentation (i.e. line up the print statement with the if statement above it. Run it to see what happens. Re-insert the indentation."
   ]
  },
  {
   "cell_type": "code",
   "execution_count": null,
   "id": "0baaddb7",
   "metadata": {},
   "outputs": [],
   "source": [
    "# Example 2: Basic if...else if...else statement:\n",
    "n = int(input(\"Enter an integer: \"))  \n",
    "if n > 0:\n",
    "    print(n, \"is a positive number\")\n",
    "elif n < 0:\n",
    "    print(n, \"is a negative number\")\n",
    "else:\n",
    "    print(n, \"is zero\")"
   ]
  },
  {
   "cell_type": "markdown",
   "id": "ec08b7e3",
   "metadata": {},
   "source": [
    "## Loops\n",
    "A **for statement** can be used to repeat statements. Like the if statement, a for statement must be followed by a colon and a program block (indented code).\n",
    "In a for loop, the **range function** can be used to specify how many times the statements in the code block should be repeated. The first argument of the range function is the start value (default is 0), the second argument specifies the integer before which the loop stops and the third argument specifies the step size (default is 1). The following examples illustrate this."
   ]
  },
  {
   "cell_type": "code",
   "execution_count": null,
   "id": "3d376bfb",
   "metadata": {},
   "outputs": [],
   "source": [
    "for i in range(1,6):\n",
    "    print(i)\n",
    "print(\"=====\")"
   ]
  },
  {
   "cell_type": "markdown",
   "id": "0300137c",
   "metadata": {},
   "source": [
    "Do the following with the code cell above:\n",
    "1. Change the first argument of the range function to 5 and the second argument to 10. How do you expect the output to change? Run it to check if you are correct.\n",
    "2. Indent the last line to line up with the print statement above it. How do you expect the output to change? Run it to check if you are correct.\n",
    "3. Change the range function call to have three arguments as follows: range(1,10,2). How do you expect the output to change? Run it to check if you are correct.\n",
    "4. Change the range function call to have a single argument as follows: range(6). How do you expect the output to change? Run it to check if you are correct."
   ]
  },
  {
   "cell_type": "markdown",
   "id": "5c70f536",
   "metadata": {},
   "source": [
    "The following cell combines a for loop with an if statement. Can you determine what the output will be before running the code?"
   ]
  },
  {
   "cell_type": "code",
   "execution_count": null,
   "id": "7591b6c0",
   "metadata": {},
   "outputs": [],
   "source": [
    "for i in range(0,5):\n",
    "    if i%2 == 0:\n",
    "        print(i)\n",
    "    elif i%3 == 1:\n",
    "        print(i + 10)\n",
    "    else:\n",
    "        print(i-10)"
   ]
  },
  {
   "cell_type": "markdown",
   "id": "8e878cb8",
   "metadata": {},
   "source": [
    "A **while statement** is an alternative looping mechanism to a for statement. A while loop has a test followed by a colon and a code block that is repeated as long as the test evaluates to True. If the test never evaluates to False, the result is an **infinite loop**. The following example illustrates the while loop.\n",
    "If you end up running code that is in an infinite loop, simply click the stop button to interrupt the Python kernel."
   ]
  },
  {
   "cell_type": "code",
   "execution_count": null,
   "id": "283c2e28",
   "metadata": {},
   "outputs": [],
   "source": [
    "i = 2\n",
    "while i < 12:\n",
    "    print(i)\n",
    "    i += 3     # This statement is shorthand for i = i + 3"
   ]
  },
  {
   "cell_type": "markdown",
   "id": "745bd5c0",
   "metadata": {},
   "source": [
    "Experiment with the while loop above by changing different aspects to ensure that you understand how the while loop works."
   ]
  },
  {
   "cell_type": "markdown",
   "id": "61725bf7",
   "metadata": {},
   "source": [
    "## Lists in Python\n",
    "A list in Python is a collection of elements. Lists are denoted using square brackets and elements are separated with commas.\n",
    "The items of a list are indexed starting from 0. \n",
    "The following code illustrates some examples of lists."
   ]
  },
  {
   "cell_type": "code",
   "execution_count": null,
   "id": "2d5fec96",
   "metadata": {},
   "outputs": [],
   "source": [
    "aList = [11, 22, 33]\n",
    "print(aList[0])\n",
    "print(aList[2])\n",
    "print(len(aList))"
   ]
  },
  {
   "cell_type": "raw",
   "id": "bba6559c",
   "metadata": {},
   "source": [
    "For loops can be used to iterate over the elements of a list as follows:"
   ]
  },
  {
   "cell_type": "code",
   "execution_count": null,
   "id": "3bd2c974",
   "metadata": {},
   "outputs": [],
   "source": [
    "for i in aList:\n",
    "    print(i)"
   ]
  },
  {
   "cell_type": "markdown",
   "id": "661a4c4a",
   "metadata": {},
   "source": [
    "There are many methods that can be used with the list type. Examples include **append** (for adding an element), **pop** (for removing an element at a particular position), and **remove** (for removing an element with a particular value)."
   ]
  },
  {
   "cell_type": "code",
   "execution_count": null,
   "id": "4eb4102c",
   "metadata": {},
   "outputs": [],
   "source": [
    "aList.append(44)\n",
    "print(aList)\n",
    "aList.pop(1)  # removes the element at position 1 (the 2nd element)\n",
    "print(aList)\n",
    "aList.remove(44)\n",
    "print(aList)"
   ]
  },
  {
   "cell_type": "markdown",
   "id": "79368b09",
   "metadata": {},
   "source": [
    "A string can be split into elements of a list using the **split** method of the string class:"
   ]
  },
  {
   "cell_type": "code",
   "execution_count": null,
   "id": "62adee56",
   "metadata": {},
   "outputs": [],
   "source": [
    "sentence = \"This is a sentence consisting of a few words\"\n",
    "wordList = sentence.split()\n",
    "print(wordList)"
   ]
  },
  {
   "cell_type": "markdown",
   "id": "73ccee0e",
   "metadata": {},
   "source": [
    "For further information on the list class in Python, see the official Python 3 tutorial:\n",
    "https://docs.python.org/3/tutorial/datastructures.html"
   ]
  },
  {
   "cell_type": "markdown",
   "id": "138f8884",
   "metadata": {},
   "source": [
    "## Functions\n",
    "You can define your own functions in Python using the **def** keyword. The following is an example of a simple function that returns the absolute value of a number:"
   ]
  },
  {
   "cell_type": "code",
   "execution_count": null,
   "id": "76d94c90",
   "metadata": {},
   "outputs": [],
   "source": [
    "def absoluteValue(num):\n",
    "    if num < 0:\n",
    "        return 0 - num\n",
    "    return num"
   ]
  },
  {
   "cell_type": "markdown",
   "id": "c47c3a07",
   "metadata": {},
   "source": [
    "The **return** statement exits the function and returns the value of the expression given. Do you understand why it was not necessary to include an else statement before the final return?\n",
    "\n",
    "After running the cell above, you can call it as follows:"
   ]
  },
  {
   "cell_type": "code",
   "execution_count": null,
   "id": "f41244eb",
   "metadata": {},
   "outputs": [],
   "source": [
    "x = float(input(\"Enter a number: \"))\n",
    "print(\"Absolute value:\", absoluteValue(x))"
   ]
  },
  {
   "cell_type": "markdown",
   "id": "29b5a086",
   "metadata": {},
   "source": [
    "Consider the code below. What do you think the output will be?"
   ]
  },
  {
   "cell_type": "code",
   "execution_count": null,
   "id": "83272ec3",
   "metadata": {},
   "outputs": [],
   "source": [
    "def addOne(num):\n",
    "    num = num + 1\n",
    "    \n",
    "x = 10\n",
    "addOne(x)\n",
    "print(x)"
   ]
  },
  {
   "cell_type": "markdown",
   "id": "eecd6bf6",
   "metadata": {},
   "source": [
    "The code above illustrates that variables are passed to functions **by value**. When we pass x to the function, the value 10 is passed to the function, not the actual variable x. In the function the variable num is given the value of 10 and is incremented to 11. This has no effect on the original x outside the function."
   ]
  },
  {
   "cell_type": "markdown",
   "id": "244145f6",
   "metadata": {},
   "source": [
    "## Variable scope\n",
    "The scope of a variable refers to the part of the program where the variable is defined and can be accessed.\n",
    "Consider for example the following code:"
   ]
  },
  {
   "cell_type": "code",
   "execution_count": null,
   "id": "192e0050",
   "metadata": {},
   "outputs": [],
   "source": [
    "var1 = 5    # var1 is a global variable. It can be used anywhere in the program (even a later cell) after it has been run.\n",
    "\n",
    "def aFunc(var2):   # the scope of var2 is inside aFunc. It is not defined outside the function\n",
    "    print(var1)    \n",
    "    print(var2)\n",
    "\n",
    "aFunc(6)\n",
    "print(var1)\n",
    "print(var2)     # this generates an error, because var2 is not defined outside aFunc"
   ]
  },
  {
   "cell_type": "markdown",
   "id": "77d6a73d",
   "metadata": {},
   "source": [
    "In the code above, the final statement generates an error, because var2 is defined in the function aFunc and is not defined outside the function."
   ]
  },
  {
   "cell_type": "markdown",
   "id": "2591eea9",
   "metadata": {},
   "source": [
    "## Exercises\n",
    "Write code to do the following:\n",
    "1. Ask the user to enter an integer. Print a statement indicating whether the integer is a prime number or not.\n",
    "2. Write a function called roundList that takes two arguments: a list of real numbers and an integer. The function should create a new list containing the same number of real numbers as the original list, but rounded off to the number of decimals indicated by the second argument. For example, roundList( [12.34529, 10.6758, 11.6111, 56.89], 2) should return the list [12.35, 10.68, 11.61, 56.89]."
   ]
  }
 ],
 "metadata": {
  "interpreter": {
   "hash": "0a54084e6b208ee8d1ce3989ffc20924477a5f55f5a43e22e699a6741623861e"
  },
  "kernelspec": {
   "display_name": "Python 3.7.8 64-bit",
   "language": "python",
   "name": "python3"
  },
  "language_info": {
   "codemirror_mode": {
    "name": "ipython",
    "version": 3
   },
   "file_extension": ".py",
   "mimetype": "text/x-python",
   "name": "python",
   "nbconvert_exporter": "python",
   "pygments_lexer": "ipython3",
   "version": "3.7.8"
  }
 },
 "nbformat": 4,
 "nbformat_minor": 5
}
